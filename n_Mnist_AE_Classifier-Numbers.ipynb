{
  "cells": [
    {
      "cell_type": "markdown",
      "metadata": {
        "id": "h1RqYoTfIwGf"
      },
      "source": [
        "`This project is written for MohoammadAmin.A by Kiyarash.K`\n",
        "\n",
        "[Karlancer Page](https://www.karlancer.com/projects/%D8%A7%D9%86%D8%AC%D8%A7%D9%85-%D8%B3%D9%87-%D9%BE%D8%B1%D9%88%DA%98%D9%87-1e82299w483w)"
      ]
    },
    {
      "cell_type": "markdown",
      "source": [
        "# Dataset\n",
        "***I'm going to use Fashion Mnist Official dataset ( by tensorflow ) in this notebook***\n",
        "\n",
        "**You can download that in [this](https://github.com/golbin/TensorFlow-MNIST/tree/master/mnist/data) github link.**\n",
        "\n"
      ],
      "metadata": {
        "id": "b8uYHO4eleVh"
      }
    },
    {
      "cell_type": "markdown",
      "source": [
        "# Imports"
      ],
      "metadata": {
        "id": "fRMyuOwqmaDO"
      }
    },
    {
      "cell_type": "markdown",
      "metadata": {
        "id": "3f4tECnb1JWm"
      },
      "source": [
        "## Importing os for training on gpu"
      ]
    },
    {
      "cell_type": "code",
      "execution_count": 1,
      "metadata": {
        "id": "sRmo_QsVFCbF"
      },
      "outputs": [],
      "source": [
        "import os"
      ]
    },
    {
      "cell_type": "markdown",
      "metadata": {
        "id": "3u1yAb5XH-sH"
      },
      "source": [
        "( Google colab added this cell to my code )"
      ]
    },
    {
      "cell_type": "code",
      "execution_count": 3,
      "metadata": {
        "colab": {
          "base_uri": "https://localhost:8080/"
        },
        "id": "3cs1A9qcHD5z",
        "outputId": "cbd00285-d8ae-40ec-b7d4-98a2dec696ee"
      },
      "outputs": [
        {
          "output_type": "stream",
          "name": "stdout",
          "text": [
            "Mounted at /content/drive\n"
          ]
        }
      ],
      "source": [
        "from google.colab import drive\n",
        "drive.mount('/content/drive')"
      ]
    },
    {
      "cell_type": "markdown",
      "metadata": {
        "id": "U0OSEI_n1aAj"
      },
      "source": [
        "## installing keras if you didn't"
      ]
    },
    {
      "cell_type": "code",
      "execution_count": null,
      "metadata": {
        "colab": {
          "base_uri": "https://localhost:8080/"
        },
        "id": "UjgdYahYFvSp",
        "outputId": "8e3c1d04-2e7b-40d6-90a2-a79ae4b46c79"
      },
      "outputs": [
        {
          "name": "stdout",
          "output_type": "stream",
          "text": [
            "Requirement already satisfied: keras in /usr/local/lib/python3.10/dist-packages (2.15.0)\n"
          ]
        }
      ],
      "source": [
        "!pip install keras"
      ]
    },
    {
      "cell_type": "markdown",
      "metadata": {
        "id": "crZSYpDOILNF"
      },
      "source": [
        "## Importing Libraries we are going to use"
      ]
    },
    {
      "cell_type": "code",
      "execution_count": 4,
      "metadata": {
        "id": "CWlCTmvXFOBO"
      },
      "outputs": [],
      "source": [
        "import keras\n",
        "from matplotlib import pyplot as plt\n",
        "import numpy as np\n",
        "import gzip\n",
        "from keras.models import Model\n",
        "from keras.optimizers import RMSprop, Adadelta, SGD, Adam\n",
        "from keras.layers import Input, Dense, Flatten, Dropout, Concatenate, Reshape, Conv2D, MaxPooling2D, UpSampling2D, Conv2DTranspose\n",
        "from keras.layers import BatchNormalization\n",
        "from keras.models import Model, Sequential\n",
        "from keras.callbacks import ModelCheckpoint\n",
        "from keras import regularizers\n",
        "from keras import backend as K\n",
        "from keras.utils import to_categorical"
      ]
    },
    {
      "cell_type": "markdown",
      "source": [
        "# Extract Functions"
      ],
      "metadata": {
        "id": "kFyOsB5fmn1L"
      }
    },
    {
      "cell_type": "markdown",
      "metadata": {
        "id": "yXX9faijtlLI"
      },
      "source": [
        "## Defining Extract data function for dataset extraction"
      ]
    },
    {
      "cell_type": "code",
      "execution_count": 5,
      "metadata": {
        "id": "EidLoGpUFSA2"
      },
      "outputs": [],
      "source": [
        "def extract_data(filename, num_images):\n",
        "    with gzip.open(filename) as bytestream:\n",
        "        bytestream.read(16)\n",
        "        buf = bytestream.read(28 * 28 * num_images)\n",
        "        data = np.frombuffer(buf, dtype=np.uint8).astype(np.float32)\n",
        "        data = data.reshape(num_images, 28,28)\n",
        "        return data"
      ]
    },
    {
      "cell_type": "markdown",
      "metadata": {
        "id": "uOFaJvWF1nV7"
      },
      "source": [
        "## Extracting data"
      ]
    },
    {
      "cell_type": "code",
      "execution_count": 6,
      "metadata": {
        "id": "7gDZbxzXFU-c"
      },
      "outputs": [],
      "source": [
        "train_data = extract_data('/content/drive/MyDrive/Fashion-Mnist/train-images-idx3-ubyte.gz', 60000)\n",
        "test_data = extract_data('/content/drive/MyDrive/Fashion-Mnist/t10k-images-idx3-ubyte.gz', 10000)"
      ]
    },
    {
      "cell_type": "markdown",
      "metadata": {
        "id": "ac9bP3dA1xbB"
      },
      "source": [
        "## Defining Extract labels function"
      ]
    },
    {
      "cell_type": "code",
      "execution_count": 7,
      "metadata": {
        "id": "UuSbgYQTFYJG"
      },
      "outputs": [],
      "source": [
        "def extract_labels(fname, num_images):\n",
        "    with gzip.open(fname) as bytestream:\n",
        "        bytestream.read(8)\n",
        "        buf = bytestream.read(1 * num_images)\n",
        "        labels = np.frombuffer(buf, dtype=np.uint8).astype(np.int64)\n",
        "        return labels"
      ]
    },
    {
      "cell_type": "markdown",
      "metadata": {
        "id": "yCBhjGdY18Ol"
      },
      "source": [
        "## Extracting labels"
      ]
    },
    {
      "cell_type": "code",
      "execution_count": 8,
      "metadata": {
        "id": "JqiZIcazFe3u"
      },
      "outputs": [],
      "source": [
        "train_labels = extract_labels('/content/drive/MyDrive/Fashion-Mnist/train-labels-idx1-ubyte.gz',60000)\n",
        "test_labels = extract_labels('/content/drive/MyDrive/Fashion-Mnist/t10k-labels-idx1-ubyte.gz',10000)"
      ]
    },
    {
      "cell_type": "markdown",
      "metadata": {
        "id": "k2cOHfTW8sfM"
      },
      "source": [
        "# Printing data shape\n",
        "which should be\n",
        "\n",
        "*   Training set (images) shape: (60000, 28, 28)\n",
        "*   Test set (images) shape: (10000, 28, 28)"
      ]
    },
    {
      "cell_type": "code",
      "execution_count": 9,
      "metadata": {
        "colab": {
          "base_uri": "https://localhost:8080/"
        },
        "id": "vqS8o0-FFiyG",
        "outputId": "6528590c-291b-4ced-a06a-40911b5e3d5d"
      },
      "outputs": [
        {
          "output_type": "stream",
          "name": "stdout",
          "text": [
            "training set shape: (60000, 28, 28)\n",
            "test set shape: (10000, 28, 28)\n"
          ]
        }
      ],
      "source": [
        "print(\"training set shape: {shape}\".format(shape=train_data.shape))\n",
        "print(\"test set shape: {shape}\".format(shape=test_data.shape))"
      ]
    },
    {
      "cell_type": "markdown",
      "metadata": {
        "id": "G62FSIjz9aYh"
      },
      "source": [
        "# Creating a Label Dictionary for Classes"
      ]
    },
    {
      "cell_type": "code",
      "execution_count": 10,
      "metadata": {
        "id": "OiA_YFlvFoPr"
      },
      "outputs": [],
      "source": [
        "label_dict = {\n",
        " 0: 'A',\n",
        " 1: 'B',\n",
        " 2: 'C',\n",
        " 3: 'D',\n",
        " 4: 'E',\n",
        " 5: 'F',\n",
        " 6: 'G',\n",
        " 7: 'H',\n",
        " 8: 'I',\n",
        " 9: 'J',\n",
        "}"
      ]
    },
    {
      "cell_type": "markdown",
      "source": [
        "## Example usage of label_dict dictionary ( Matplotlib )"
      ],
      "metadata": {
        "id": "3rkCzpnynFPM"
      }
    },
    {
      "cell_type": "code",
      "execution_count": 11,
      "metadata": {
        "colab": {
          "base_uri": "https://localhost:8080/",
          "height": 276
        },
        "id": "UE_JQzR7FqRx",
        "outputId": "dcb26a6f-5ead-412e-a437-60ff4d9c1e47"
      },
      "outputs": [
        {
          "output_type": "execute_result",
          "data": {
            "text/plain": [
              "Text(0.5, 1.0, '(Label: A)')"
            ]
          },
          "metadata": {},
          "execution_count": 11
        },
        {
          "output_type": "display_data",
          "data": {
            "text/plain": [
              "<Figure size 500x500 with 2 Axes>"
            ],
            "image/png": "[encoded data removed]"
          },
          "metadata": {}
        }
      ],
      "source": [
        "plt.figure(figsize=[5,5])\n",
        "\n",
        "plt.subplot(121)\n",
        "curr_img = np.reshape(train_data[10], (28,28))\n",
        "curr_lbl = train_labels[10]\n",
        "plt.imshow(curr_img, cmap='gray')\n",
        "plt.title(\"(Label: \" + str(label_dict[curr_lbl]) + \")\")\n",
        "\n",
        "plt.subplot(122)\n",
        "curr_img = np.reshape(test_data[10], (28,28))\n",
        "curr_lbl = test_labels[10]\n",
        "plt.imshow(curr_img, cmap='gray')\n",
        "plt.title(\"(Label: \" + str(label_dict[curr_lbl]) + \")\")\n"
      ]
    },
    {
      "cell_type": "markdown",
      "source": [
        "# Data Preprocessing"
      ],
      "metadata": {
        "id": "44_PVXrkp6OF"
      }
    },
    {
      "cell_type": "markdown",
      "source": [
        "## Data Dimensions"
      ],
      "metadata": {
        "id": "P-4f3B32rvw2"
      }
    },
    {
      "cell_type": "markdown",
      "source": [
        " pixel values range from 0 to 255 with 28x28 dimension so we turn in into a 28x28x1 data so we can train our model"
      ],
      "metadata": {
        "id": "gtqzuPRCqCri"
      }
    },
    {
      "cell_type": "code",
      "execution_count": 12,
      "metadata": {
        "colab": {
          "base_uri": "https://localhost:8080/"
        },
        "id": "aHWMDYdbuH9z",
        "outputId": "6be8c584-57eb-4e32-b801-192096ed689f"
      },
      "outputs": [
        {
          "output_type": "execute_result",
          "data": {
            "text/plain": [
              "((60000, 28, 28, 1), (10000, 28, 28, 1))"
            ]
          },
          "metadata": {},
          "execution_count": 12
        }
      ],
      "source": [
        "train_data = train_data.reshape(-1, 28,28, 1)\n",
        "test_data = test_data.reshape(-1, 28,28, 1)\n",
        "train_data.shape, test_data.shape"
      ]
    },
    {
      "cell_type": "markdown",
      "source": [
        "## float32 Converting / Checking"
      ],
      "metadata": {
        "id": "15nOlnF6r1FD"
      }
    },
    {
      "cell_type": "markdown",
      "source": [
        "The data is already converted into float32 format while reading so we're just checking here"
      ],
      "metadata": {
        "id": "zvG2ie6Qqto3"
      }
    },
    {
      "cell_type": "code",
      "execution_count": 13,
      "metadata": {
        "colab": {
          "base_uri": "https://localhost:8080/"
        },
        "id": "Z9c1TmyKuRir",
        "outputId": "43be81d6-38d6-460b-92ad-4ba359ebb563"
      },
      "outputs": [
        {
          "output_type": "execute_result",
          "data": {
            "text/plain": [
              "(dtype('float32'), dtype('float32'))"
            ]
          },
          "metadata": {},
          "execution_count": 13
        }
      ],
      "source": [
        "train_data.dtype, test_data.dtype"
      ]
    },
    {
      "cell_type": "markdown",
      "source": [
        "## Rescaling Data"
      ],
      "metadata": {
        "id": "5RnyI7Itr_AN"
      }
    },
    {
      "cell_type": "markdown",
      "source": [
        "rescaling the training and testing data with their maximum pixel value"
      ],
      "metadata": {
        "id": "wPARKmV4rHz5"
      }
    },
    {
      "cell_type": "code",
      "execution_count": 14,
      "metadata": {
        "colab": {
          "base_uri": "https://localhost:8080/"
        },
        "id": "jZJirotNubFO",
        "outputId": "ac0cc87b-b57a-4666-8975-8920b2498979"
      },
      "outputs": [
        {
          "output_type": "execute_result",
          "data": {
            "text/plain": [
              "(255.0, 255.0)"
            ]
          },
          "metadata": {},
          "execution_count": 14
        }
      ],
      "source": [
        "np.max(train_data), np.max(test_data)"
      ]
    },
    {
      "cell_type": "code",
      "execution_count": 15,
      "metadata": {
        "id": "y23vnNrlud90"
      },
      "outputs": [],
      "source": [
        "train_data = train_data / np.max(train_data)\n",
        "test_data = test_data / np.max(test_data)"
      ]
    },
    {
      "cell_type": "markdown",
      "source": [
        "Just Checking"
      ],
      "metadata": {
        "id": "s6kVxcCprU2Z"
      }
    },
    {
      "cell_type": "code",
      "execution_count": 16,
      "metadata": {
        "colab": {
          "base_uri": "https://localhost:8080/"
        },
        "id": "4SCwWMPtugAT",
        "outputId": "baf6ba58-47c5-4fbe-984f-2b01c060bbf9"
      },
      "outputs": [
        {
          "output_type": "execute_result",
          "data": {
            "text/plain": [
              "(1.0, 1.0)"
            ]
          },
          "metadata": {},
          "execution_count": 16
        }
      ],
      "source": [
        "np.max(train_data), np.max(test_data)"
      ]
    },
    {
      "cell_type": "markdown",
      "source": [
        "## Train-Test Split\n",
        "I considered 20% for test and 80% for training"
      ],
      "metadata": {
        "id": "IiV3B_3nrkMh"
      }
    },
    {
      "cell_type": "code",
      "execution_count": 17,
      "metadata": {
        "id": "rKPwzdLwuh8v"
      },
      "outputs": [],
      "source": [
        "from sklearn.model_selection import train_test_split\n",
        "train_X,valid_X,train_ground,valid_ground = train_test_split(train_data, train_data, test_size=0.2, random_state=13)"
      ]
    },
    {
      "cell_type": "markdown",
      "source": [
        "# Convolutional AE"
      ],
      "metadata": {
        "id": "Ol3q1UrQsbpD"
      }
    },
    {
      "cell_type": "code",
      "execution_count": 18,
      "metadata": {
        "id": "e9xIvhSjukPn"
      },
      "outputs": [],
      "source": [
        "batch_size = 64\n",
        "epochs = 5\n",
        "inChannel = 1\n",
        "x, y = 28, 28\n",
        "input_img = Input(shape = (x, y, inChannel))\n",
        "num_classes = 10"
      ]
    },
    {
      "cell_type": "markdown",
      "source": [
        "## Encoder"
      ],
      "metadata": {
        "id": "7haDRHv3sm8l"
      }
    },
    {
      "cell_type": "markdown",
      "metadata": {
        "id": "PScOYIFuLVAh"
      },
      "source": [
        "input = 28 x 28 x 1 (wide and thin)"
      ]
    },
    {
      "cell_type": "code",
      "execution_count": 19,
      "metadata": {
        "id": "Zq19x5zpuyBQ"
      },
      "outputs": [],
      "source": [
        "def encoder(input_img):\n",
        "    conv1 = Conv2D(32, (3, 3), activation='relu', padding='same')(input_img) #28 x 28 x 32\n",
        "    conv1 = BatchNormalization()(conv1)\n",
        "    conv1 = Conv2D(32, (3, 3), activation='relu', padding='same')(conv1)\n",
        "    conv1 = BatchNormalization()(conv1)\n",
        "    pool1 = MaxPooling2D(pool_size=(2, 2))(conv1) #14 x 14 x 32\n",
        "    conv2 = Conv2D(64, (3, 3), activation='relu', padding='same')(pool1) #14 x 14 x 64\n",
        "    conv2 = BatchNormalization()(conv2)\n",
        "    conv2 = Conv2D(64, (3, 3), activation='relu', padding='same')(conv2)\n",
        "    conv2 = BatchNormalization()(conv2)\n",
        "    pool2 = MaxPooling2D(pool_size=(2, 2))(conv2) #7 x 7 x 64\n",
        "    conv3 = Conv2D(128, (3, 3), activation='relu', padding='same')(pool2) #7 x 7 x 128 (small and thick)\n",
        "    conv3 = BatchNormalization()(conv3)\n",
        "    conv3 = Conv2D(128, (3, 3), activation='relu', padding='same')(conv3)\n",
        "    conv3 = BatchNormalization()(conv3)\n",
        "    conv4 = Conv2D(256, (3, 3), activation='relu', padding='same')(conv3) #7 x 7 x 256 (small and thick)\n",
        "    conv4 = BatchNormalization()(conv4)\n",
        "    conv4 = Conv2D(256, (3, 3), activation='relu', padding='same')(conv4)\n",
        "    conv4 = BatchNormalization()(conv4)\n",
        "    return conv4\n"
      ]
    },
    {
      "cell_type": "markdown",
      "source": [
        "## Decoder"
      ],
      "metadata": {
        "id": "WxjfQPYKs50v"
      }
    },
    {
      "cell_type": "code",
      "execution_count": 20,
      "metadata": {
        "id": "Pez_XmpFLj0O"
      },
      "outputs": [],
      "source": [
        "def decoder(conv4):\n",
        "    conv5 = Conv2D(128, (3, 3), activation='relu', padding='same')(conv4) #7 x 7 x 128\n",
        "    conv5 = BatchNormalization()(conv5)\n",
        "    conv5 = Conv2D(128, (3, 3), activation='relu', padding='same')(conv5)\n",
        "    conv5 = BatchNormalization()(conv5)\n",
        "    conv6 = Conv2D(64, (3, 3), activation='relu', padding='same')(conv5) #7 x 7 x 64\n",
        "    conv6 = BatchNormalization()(conv6)\n",
        "    conv6 = Conv2D(64, (3, 3), activation='relu', padding='same')(conv6)\n",
        "    conv6 = BatchNormalization()(conv6)\n",
        "    up1 = UpSampling2D((2,2))(conv6) #14 x 14 x 64\n",
        "    conv7 = Conv2D(32, (3, 3), activation='relu', padding='same')(up1) # 14 x 14 x 32\n",
        "    conv7 = BatchNormalization()(conv7)\n",
        "    conv7 = Conv2D(32, (3, 3), activation='relu', padding='same')(conv7)\n",
        "    conv7 = BatchNormalization()(conv7)\n",
        "    up2 = UpSampling2D((2,2))(conv7) # 28 x 28 x 32\n",
        "    decoded = Conv2D(1, (3, 3), activation='sigmoid', padding='same')(up2) # 28 x 28 x 1\n",
        "    return decoded"
      ]
    },
    {
      "cell_type": "markdown",
      "source": [
        "## Creating the Model"
      ],
      "metadata": {
        "id": "DLtmMTIUtF-m"
      }
    },
    {
      "cell_type": "code",
      "execution_count": 21,
      "metadata": {
        "id": "zxHiIayTu0PH"
      },
      "outputs": [],
      "source": [
        "autoencoder = Model(input_img, decoder(encoder(input_img)))"
      ]
    },
    {
      "cell_type": "markdown",
      "source": [
        "## Compiling the Model\n",
        "using RMSprop as Optimizer"
      ],
      "metadata": {
        "id": "EyOL_1pptKDh"
      }
    },
    {
      "cell_type": "code",
      "source": [
        "autoencoder.compile(loss='mean_squared_error', optimizer = RMSprop())"
      ],
      "metadata": {
        "id": "htM5-nGStNcb"
      },
      "execution_count": null,
      "outputs": []
    },
    {
      "cell_type": "markdown",
      "source": [
        "## Layers Visualization"
      ],
      "metadata": {
        "id": "6H23UxTBte3b"
      }
    },
    {
      "cell_type": "code",
      "execution_count": 22,
      "metadata": {
        "colab": {
          "base_uri": "https://localhost:8080/"
        },
        "id": "jW83nl44u18m",
        "outputId": "e862e9df-a153-4548-9a8d-fa82826ead09"
      },
      "outputs": [
        {
          "output_type": "stream",
          "name": "stdout",
          "text": [
            "Model: \"model\"\n",
            "_________________________________________________________________\n",
            " Layer (type)                Output Shape              Param #   \n",
            "=================================================================\n",
            " input_1 (InputLayer)        [(None, 28, 28, 1)]       0         \n",
            "                                                                 \n",
            " conv2d (Conv2D)             (None, 28, 28, 32)        320       \n",
            "                                                                 \n",
            " batch_normalization (Batch  (None, 28, 28, 32)        128       \n",
            " Normalization)                                                  \n",
            "                                                                 \n",
            " conv2d_1 (Conv2D)           (None, 28, 28, 32)        9248      \n",
            "                                                                 \n",
            " batch_normalization_1 (Bat  (None, 28, 28, 32)        128       \n",
            " chNormalization)                                                \n",
            "                                                                 \n",
            " max_pooling2d (MaxPooling2  (None, 14, 14, 32)        0         \n",
            " D)                                                              \n",
            "                                                                 \n",
            " conv2d_2 (Conv2D)           (None, 14, 14, 64)        18496     \n",
            "                                                                 \n",
            " batch_normalization_2 (Bat  (None, 14, 14, 64)        256       \n",
            " chNormalization)                                                \n",
            "                                                                 \n",
            " conv2d_3 (Conv2D)           (None, 14, 14, 64)        36928     \n",
            "                                                                 \n",
            " batch_normalization_3 (Bat  (None, 14, 14, 64)        256       \n",
            " chNormalization)                                                \n",
            "                                                                 \n",
            " max_pooling2d_1 (MaxPoolin  (None, 7, 7, 64)          0         \n",
            " g2D)                                                            \n",
            "                                                                 \n",
            " conv2d_4 (Conv2D)           (None, 7, 7, 128)         73856     \n",
            "                                                                 \n",
            " batch_normalization_4 (Bat  (None, 7, 7, 128)         512       \n",
            " chNormalization)                                                \n",
            "                                                                 \n",
            " conv2d_5 (Conv2D)           (None, 7, 7, 128)         147584    \n",
            "                                                                 \n",
            " batch_normalization_5 (Bat  (None, 7, 7, 128)         512       \n",
            " chNormalization)                                                \n",
            "                                                                 \n",
            " conv2d_6 (Conv2D)           (None, 7, 7, 256)         295168    \n",
            "                                                                 \n",
            " batch_normalization_6 (Bat  (None, 7, 7, 256)         1024      \n",
            " chNormalization)                                                \n",
            "                                                                 \n",
            " conv2d_7 (Conv2D)           (None, 7, 7, 256)         590080    \n",
            "                                                                 \n",
            " batch_normalization_7 (Bat  (None, 7, 7, 256)         1024      \n",
            " chNormalization)                                                \n",
            "                                                                 \n",
            " conv2d_8 (Conv2D)           (None, 7, 7, 128)         295040    \n",
            "                                                                 \n",
            " batch_normalization_8 (Bat  (None, 7, 7, 128)         512       \n",
            " chNormalization)                                                \n",
            "                                                                 \n",
            " conv2d_9 (Conv2D)           (None, 7, 7, 128)         147584    \n",
            "                                                                 \n",
            " batch_normalization_9 (Bat  (None, 7, 7, 128)         512       \n",
            " chNormalization)                                                \n",
            "                                                                 \n",
            " conv2d_10 (Conv2D)          (None, 7, 7, 64)          73792     \n",
            "                                                                 \n",
            " batch_normalization_10 (Ba  (None, 7, 7, 64)          256       \n",
            " tchNormalization)                                               \n",
            "                                                                 \n",
            " conv2d_11 (Conv2D)          (None, 7, 7, 64)          36928     \n",
            "                                                                 \n",
            " batch_normalization_11 (Ba  (None, 7, 7, 64)          256       \n",
            " tchNormalization)                                               \n",
            "                                                                 \n",
            " up_sampling2d (UpSampling2  (None, 14, 14, 64)        0         \n",
            " D)                                                              \n",
            "                                                                 \n",
            " conv2d_12 (Conv2D)          (None, 14, 14, 32)        18464     \n",
            "                                                                 \n",
            " batch_normalization_12 (Ba  (None, 14, 14, 32)        128       \n",
            " tchNormalization)                                               \n",
            "                                                                 \n",
            " conv2d_13 (Conv2D)          (None, 14, 14, 32)        9248      \n",
            "                                                                 \n",
            " batch_normalization_13 (Ba  (None, 14, 14, 32)        128       \n",
            " tchNormalization)                                               \n",
            "                                                                 \n",
            " up_sampling2d_1 (UpSamplin  (None, 28, 28, 32)        0         \n",
            " g2D)                                                            \n",
            "                                                                 \n",
            " conv2d_14 (Conv2D)          (None, 28, 28, 1)         289       \n",
            "                                                                 \n",
            "=================================================================\n",
            "Total params: 1758657 (6.71 MB)\n",
            "Trainable params: 1755841 (6.70 MB)\n",
            "Non-trainable params: 2816 (11.00 KB)\n",
            "_________________________________________________________________\n"
          ]
        }
      ],
      "source": [
        "autoencoder.summary()"
      ]
    },
    {
      "cell_type": "markdown",
      "source": [
        "# Model Training"
      ],
      "metadata": {
        "id": "OwMF8UZ5tn-4"
      }
    },
    {
      "cell_type": "markdown",
      "metadata": {
        "id": "7HGJbw8Z9GXj"
      },
      "source": [
        "## GPU\n",
        "Before Training the model we should check if the gpu is online"
      ]
    },
    {
      "cell_type": "code",
      "execution_count": 23,
      "metadata": {
        "id": "gLQgOflG9LR0"
      },
      "outputs": [],
      "source": [
        "os.environ[\"CUDA_DEVICE_ORDER\"] = \"PCI_BUS_ID\"\n",
        "os.environ[\"CUDA_VISIBLE_DEVICES\"]= \"0\""
      ]
    },
    {
      "cell_type": "markdown",
      "source": [
        "## Model Fit"
      ],
      "metadata": {
        "id": "Nft4TkUjtumk"
      }
    },
    {
      "cell_type": "code",
      "execution_count": 24,
      "metadata": {
        "colab": {
          "base_uri": "https://localhost:8080/"
        },
        "id": "Ck_ft8VVu7mF",
        "outputId": "6c04b771-0a79-40b3-9720-2c360500471e"
      },
      "outputs": [
        {
          "output_type": "stream",
          "name": "stdout",
          "text": [
            "Epoch 1/5\n",
            "750/750 [==============================] - 23s 17ms/step - loss: 0.0165 - val_loss: 0.0055\n",
            "Epoch 2/5\n",
            "750/750 [==============================] - 12s 16ms/step - loss: 0.0049 - val_loss: 0.0044\n",
            "Epoch 3/5\n",
            "750/750 [==============================] - 12s 16ms/step - loss: 0.0038 - val_loss: 0.0033\n",
            "Epoch 4/5\n",
            "750/750 [==============================] - 13s 17ms/step - loss: 0.0033 - val_loss: 0.0030\n",
            "Epoch 5/5\n",
            "750/750 [==============================] - 12s 16ms/step - loss: 0.0030 - val_loss: 0.0029\n"
          ]
        }
      ],
      "source": [
        "autoencoder_train = autoencoder.fit(train_X, train_ground, batch_size=batch_size,epochs=epochs,verbose=1,validation_data=(valid_X, valid_ground))\n"
      ]
    },
    {
      "cell_type": "markdown",
      "source": [
        "## Visualizing the model performance"
      ],
      "metadata": {
        "id": "SjoCkth7t0vQ"
      }
    },
    {
      "cell_type": "code",
      "execution_count": 25,
      "metadata": {
        "colab": {
          "base_uri": "https://localhost:8080/",
          "height": 452
        },
        "id": "DBwt_F_AvDC9",
        "outputId": "8b938f23-9d36-4191-9b14-a3bacaa304b2"
      },
      "outputs": [
        {
          "output_type": "display_data",
          "data": {
            "text/plain": [
              "<Figure size 640x480 with 1 Axes>"
            ],
            "image/png": "[encoded data removed]"
          },
          "metadata": {}
        }
      ],
      "source": [
        "loss = autoencoder_train.history['loss']\n",
        "val_loss = autoencoder_train.history['val_loss']\n",
        "epochs = range(5)\n",
        "plt.figure()\n",
        "plt.plot(epochs, loss, 'bo', label='Training loss')\n",
        "plt.plot(epochs, val_loss, 'b', label='Validation loss')\n",
        "plt.title('Training and validation loss')\n",
        "plt.legend()\n",
        "plt.show()"
      ]
    },
    {
      "cell_type": "markdown",
      "source": [
        "## Saving the trained Model"
      ],
      "metadata": {
        "id": "GRytmZb5t8-O"
      }
    },
    {
      "cell_type": "code",
      "execution_count": 26,
      "metadata": {
        "id": "bP6DBU4pvG7J"
      },
      "outputs": [],
      "source": [
        "autoencoder.save_weights('autoencoder.h5')"
      ]
    },
    {
      "cell_type": "markdown",
      "metadata": {
        "id": "SpK6BLn9VvCa"
      },
      "source": [
        "# Segmentation"
      ]
    },
    {
      "cell_type": "markdown",
      "metadata": {
        "id": "74hlXkq6Szhe"
      },
      "source": [
        "## Changing lables from categorical to one hot encoding vectors\n",
        "\n",
        "I will use to_categorical() function to change my labels"
      ]
    },
    {
      "cell_type": "code",
      "execution_count": 27,
      "metadata": {
        "id": "ImnRzKbKvJcm"
      },
      "outputs": [],
      "source": [
        "train_Y_one_hot = to_categorical(train_labels)\n",
        "test_Y_one_hot = to_categorical(test_labels)"
      ]
    },
    {
      "cell_type": "code",
      "execution_count": 28,
      "metadata": {
        "colab": {
          "base_uri": "https://localhost:8080/"
        },
        "id": "tpsYem8VTugy",
        "outputId": "aa8019f0-b3cb-49f4-fafc-a36b10fc3d79"
      },
      "outputs": [
        {
          "output_type": "stream",
          "name": "stdout",
          "text": [
            "previous: 5\n",
            "after: [0. 0. 0. 0. 0. 1. 0. 0. 0. 0.]\n"
          ]
        }
      ],
      "source": [
        "print('previous:', train_labels[0])\n",
        "print('after:', train_Y_one_hot[0])"
      ]
    },
    {
      "cell_type": "markdown",
      "source": [
        "## Train-Test Split\n",
        "I'm going to use the same random state I used"
      ],
      "metadata": {
        "id": "1D2QT7jNugW1"
      }
    },
    {
      "cell_type": "code",
      "execution_count": 29,
      "metadata": {
        "id": "LQVWi5BXvKxI"
      },
      "outputs": [],
      "source": [
        "train_X,valid_X,train_label,valid_label = train_test_split(train_data,train_Y_one_hot,test_size=0.2,random_state=13)"
      ]
    },
    {
      "cell_type": "markdown",
      "metadata": {
        "id": "gfrBCT-pqQpl"
      },
      "source": [
        "## Training and Validation set shapes"
      ]
    },
    {
      "cell_type": "code",
      "execution_count": 30,
      "metadata": {
        "colab": {
          "base_uri": "https://localhost:8080/"
        },
        "id": "cKTGh5p5vMcc",
        "outputId": "5cdfe393-5768-4a08-eb58-a9954494b29f"
      },
      "outputs": [
        {
          "output_type": "execute_result",
          "data": {
            "text/plain": [
              "((48000, 28, 28, 1), (12000, 28, 28, 1), (48000, 10), (12000, 10))"
            ]
          },
          "metadata": {},
          "execution_count": 30
        }
      ],
      "source": [
        "train_X.shape,valid_X.shape,train_label.shape,valid_label.shape"
      ]
    },
    {
      "cell_type": "markdown",
      "source": [
        "## Encoder"
      ],
      "metadata": {
        "id": "dKVgTwrevNcQ"
      }
    },
    {
      "cell_type": "code",
      "execution_count": 31,
      "metadata": {
        "id": "y9w58LMrvNcr"
      },
      "outputs": [],
      "source": [
        "def encoder(input_img):\n",
        "    conv1 = Conv2D(32, (3, 3), activation='relu', padding='same')(input_img) #28 x 28 x 32\n",
        "    conv1 = BatchNormalization()(conv1)\n",
        "    conv1 = Conv2D(32, (3, 3), activation='relu', padding='same')(conv1)\n",
        "    conv1 = BatchNormalization()(conv1)\n",
        "    pool1 = MaxPooling2D(pool_size=(2, 2))(conv1) #14 x 14 x 32\n",
        "    conv2 = Conv2D(64, (3, 3), activation='relu', padding='same')(pool1) #14 x 14 x 64\n",
        "    conv2 = BatchNormalization()(conv2)\n",
        "    conv2 = Conv2D(64, (3, 3), activation='relu', padding='same')(conv2)\n",
        "    conv2 = BatchNormalization()(conv2)\n",
        "    pool2 = MaxPooling2D(pool_size=(2, 2))(conv2) #7 x 7 x 64\n",
        "    conv3 = Conv2D(128, (3, 3), activation='relu', padding='same')(pool2) #7 x 7 x 128 (small and thick)\n",
        "    conv3 = BatchNormalization()(conv3)\n",
        "    conv3 = Conv2D(128, (3, 3), activation='relu', padding='same')(conv3)\n",
        "    conv3 = BatchNormalization()(conv3)\n",
        "    conv4 = Conv2D(256, (3, 3), activation='relu', padding='same')(conv3) #7 x 7 x 256 (small and thick)\n",
        "    conv4 = BatchNormalization()(conv4)\n",
        "    conv4 = Conv2D(256, (3, 3), activation='relu', padding='same')(conv4)\n",
        "    conv4 = BatchNormalization()(conv4)\n",
        "    return conv4"
      ]
    },
    {
      "cell_type": "markdown",
      "source": [
        "## Fully Connectet Layers\n"
      ],
      "metadata": {
        "id": "JqPS5xFQvE1I"
      }
    },
    {
      "cell_type": "code",
      "execution_count": 32,
      "metadata": {
        "id": "U1Bs3_4tvPRf"
      },
      "outputs": [],
      "source": [
        "def fc(enco):\n",
        "    flat = Flatten()(enco)\n",
        "    den = Dense(128, activation='relu')(flat)\n",
        "    out = Dense(num_classes, activation='softmax')(den)\n",
        "    return out"
      ]
    },
    {
      "cell_type": "code",
      "execution_count": 33,
      "metadata": {
        "id": "oXFJezT6vRGw"
      },
      "outputs": [],
      "source": [
        "encode = encoder(input_img)\n",
        "full_model = Model(input_img,fc(encode))"
      ]
    },
    {
      "cell_type": "code",
      "execution_count": 34,
      "metadata": {
        "id": "8Dolj1T4vSm4"
      },
      "outputs": [],
      "source": [
        "for l1,l2 in zip(full_model.layers[:19],autoencoder.layers[0:19]):\n",
        "    l1.set_weights(l2.get_weights())"
      ]
    },
    {
      "cell_type": "markdown",
      "source": [
        "## Get First layer Weights for both models"
      ],
      "metadata": {
        "id": "0mV-OBajweF4"
      }
    },
    {
      "cell_type": "markdown",
      "source": [
        "### First"
      ],
      "metadata": {
        "id": "4o388RKlw2M5"
      }
    },
    {
      "cell_type": "code",
      "execution_count": 35,
      "metadata": {
        "colab": {
          "base_uri": "https://localhost:8080/"
        },
        "id": "NTBmAs0evUNN",
        "outputId": "e633f6b4-dc95-4522-bfa4-355fc8d127b1"
      },
      "outputs": [
        {
          "output_type": "execute_result",
          "data": {
            "text/plain": [
              "array([[[-0.05901609, -0.11902888, -0.06223492,  0.15110014,\n",
              "          0.01666622, -0.16094284, -0.07521141,  0.10772668,\n",
              "          0.07826515,  0.05101902,  0.08780605,  0.00652483,\n",
              "         -0.14532632, -0.15711674, -0.11499317,  0.08713687,\n",
              "          0.01603542, -0.06911247,  0.08272316, -0.00199033,\n",
              "         -0.06623617,  0.03870533,  0.13992713,  0.12593071,\n",
              "          0.04913674, -0.05458444, -0.08113877,  0.01510723,\n",
              "         -0.10805443,  0.01842702, -0.07888024,  0.05505122]],\n",
              "\n",
              "       [[ 0.11096435, -0.07942615, -0.05049131,  0.12726362,\n",
              "          0.11865655,  0.05202945, -0.03026225, -0.04260264,\n",
              "         -0.1296479 ,  0.00453061,  0.03885442, -0.08254114,\n",
              "         -0.10441379,  0.01778807,  0.04359142, -0.12706253,\n",
              "         -0.0457462 ,  0.12387995,  0.17895728, -0.18416306,\n",
              "         -0.10901687, -0.05431452, -0.03381116, -0.02793308,\n",
              "         -0.13949488, -0.08331394, -0.08502997,  0.23016383,\n",
              "          0.15097338,  0.06220397, -0.07416399,  0.06676315]],\n",
              "\n",
              "       [[-0.03636498,  0.12717706, -0.08233042,  0.12428438,\n",
              "         -0.08586702,  0.12859683,  0.01317555, -0.08009286,\n",
              "          0.10470658, -0.00551611, -0.11671387, -0.01110615,\n",
              "          0.04632945,  0.1767837 , -0.1316599 ,  0.03387869,\n",
              "          0.12470766, -0.02975173,  0.12551789,  0.06030108,\n",
              "          0.1544125 , -0.0056979 , -0.00586595, -0.01539395,\n",
              "         -0.13204591,  0.0549123 , -0.03475806,  0.08726057,\n",
              "          0.17636573, -0.0361748 ,  0.01387778,  0.04831593]]],\n",
              "      dtype=float32)"
            ]
          },
          "metadata": {},
          "execution_count": 35
        }
      ],
      "source": [
        "autoencoder.get_weights()[0][1]"
      ]
    },
    {
      "cell_type": "markdown",
      "source": [
        "### Second"
      ],
      "metadata": {
        "id": "CcdnL4wSw6mW"
      }
    },
    {
      "cell_type": "code",
      "execution_count": 36,
      "metadata": {
        "colab": {
          "base_uri": "https://localhost:8080/"
        },
        "id": "NA7pNotMvXld",
        "outputId": "24d9ffb3-fff0-41d0-e030-e1ce8a3d050d"
      },
      "outputs": [
        {
          "output_type": "execute_result",
          "data": {
            "text/plain": [
              "array([[[-0.05901609, -0.11902888, -0.06223492,  0.15110014,\n",
              "          0.01666622, -0.16094284, -0.07521141,  0.10772668,\n",
              "          0.07826515,  0.05101902,  0.08780605,  0.00652483,\n",
              "         -0.14532632, -0.15711674, -0.11499317,  0.08713687,\n",
              "          0.01603542, -0.06911247,  0.08272316, -0.00199033,\n",
              "         -0.06623617,  0.03870533,  0.13992713,  0.12593071,\n",
              "          0.04913674, -0.05458444, -0.08113877,  0.01510723,\n",
              "         -0.10805443,  0.01842702, -0.07888024,  0.05505122]],\n",
              "\n",
              "       [[ 0.11096435, -0.07942615, -0.05049131,  0.12726362,\n",
              "          0.11865655,  0.05202945, -0.03026225, -0.04260264,\n",
              "         -0.1296479 ,  0.00453061,  0.03885442, -0.08254114,\n",
              "         -0.10441379,  0.01778807,  0.04359142, -0.12706253,\n",
              "         -0.0457462 ,  0.12387995,  0.17895728, -0.18416306,\n",
              "         -0.10901687, -0.05431452, -0.03381116, -0.02793308,\n",
              "         -0.13949488, -0.08331394, -0.08502997,  0.23016383,\n",
              "          0.15097338,  0.06220397, -0.07416399,  0.06676315]],\n",
              "\n",
              "       [[-0.03636498,  0.12717706, -0.08233042,  0.12428438,\n",
              "         -0.08586702,  0.12859683,  0.01317555, -0.08009286,\n",
              "          0.10470658, -0.00551611, -0.11671387, -0.01110615,\n",
              "          0.04632945,  0.1767837 , -0.1316599 ,  0.03387869,\n",
              "          0.12470766, -0.02975173,  0.12551789,  0.06030108,\n",
              "          0.1544125 , -0.0056979 , -0.00586595, -0.01539395,\n",
              "         -0.13204591,  0.0549123 , -0.03475806,  0.08726057,\n",
              "          0.17636573, -0.0361748 ,  0.01387778,  0.04831593]]],\n",
              "      dtype=float32)"
            ]
          },
          "metadata": {},
          "execution_count": 36
        }
      ],
      "source": [
        "full_model.get_weights()[0][1]"
      ]
    },
    {
      "cell_type": "markdown",
      "source": [
        "## Don't Need to train first 19 Layers\n",
        "just training the FC part\n",
        "Since the encoder part is already trained"
      ],
      "metadata": {
        "id": "tQBbGCOSxKLE"
      }
    },
    {
      "cell_type": "code",
      "execution_count": 37,
      "metadata": {
        "id": "DtjbTvMovZET"
      },
      "outputs": [],
      "source": [
        "for layer in full_model.layers[0:19]:\n",
        "    layer.trainable = False"
      ]
    },
    {
      "cell_type": "markdown",
      "source": [
        "## Model Compiling"
      ],
      "metadata": {
        "id": "Dai7rKTexhsO"
      }
    },
    {
      "cell_type": "code",
      "execution_count": 38,
      "metadata": {
        "id": "pBnXTuwKz1ve"
      },
      "outputs": [],
      "source": [
        "full_model.compile(loss=keras.losses.categorical_crossentropy, optimizer=keras.optimizers.Adam(),metrics=['accuracy'])"
      ]
    },
    {
      "cell_type": "markdown",
      "source": [
        "## Model Summary"
      ],
      "metadata": {
        "id": "OUNJ9ljzxkgx"
      }
    },
    {
      "cell_type": "code",
      "execution_count": 39,
      "metadata": {
        "colab": {
          "base_uri": "https://localhost:8080/"
        },
        "id": "qPiZI_Jhz3fw",
        "outputId": "a9d97895-a16a-4350-bb4f-80a1ce498baf"
      },
      "outputs": [
        {
          "output_type": "stream",
          "name": "stdout",
          "text": [
            "Model: \"model_1\"\n",
            "_________________________________________________________________\n",
            " Layer (type)                Output Shape              Param #   \n",
            "=================================================================\n",
            " input_1 (InputLayer)        [(None, 28, 28, 1)]       0         \n",
            "                                                                 \n",
            " conv2d_15 (Conv2D)          (None, 28, 28, 32)        320       \n",
            "                                                                 \n",
            " batch_normalization_14 (Ba  (None, 28, 28, 32)        128       \n",
            " tchNormalization)                                               \n",
            "                                                                 \n",
            " conv2d_16 (Conv2D)          (None, 28, 28, 32)        9248      \n",
            "                                                                 \n",
            " batch_normalization_15 (Ba  (None, 28, 28, 32)        128       \n",
            " tchNormalization)                                               \n",
            "                                                                 \n",
            " max_pooling2d_2 (MaxPoolin  (None, 14, 14, 32)        0         \n",
            " g2D)                                                            \n",
            "                                                                 \n",
            " conv2d_17 (Conv2D)          (None, 14, 14, 64)        18496     \n",
            "                                                                 \n",
            " batch_normalization_16 (Ba  (None, 14, 14, 64)        256       \n",
            " tchNormalization)                                               \n",
            "                                                                 \n",
            " conv2d_18 (Conv2D)          (None, 14, 14, 64)        36928     \n",
            "                                                                 \n",
            " batch_normalization_17 (Ba  (None, 14, 14, 64)        256       \n",
            " tchNormalization)                                               \n",
            "                                                                 \n",
            " max_pooling2d_3 (MaxPoolin  (None, 7, 7, 64)          0         \n",
            " g2D)                                                            \n",
            "                                                                 \n",
            " conv2d_19 (Conv2D)          (None, 7, 7, 128)         73856     \n",
            "                                                                 \n",
            " batch_normalization_18 (Ba  (None, 7, 7, 128)         512       \n",
            " tchNormalization)                                               \n",
            "                                                                 \n",
            " conv2d_20 (Conv2D)          (None, 7, 7, 128)         147584    \n",
            "                                                                 \n",
            " batch_normalization_19 (Ba  (None, 7, 7, 128)         512       \n",
            " tchNormalization)                                               \n",
            "                                                                 \n",
            " conv2d_21 (Conv2D)          (None, 7, 7, 256)         295168    \n",
            "                                                                 \n",
            " batch_normalization_20 (Ba  (None, 7, 7, 256)         1024      \n",
            " tchNormalization)                                               \n",
            "                                                                 \n",
            " conv2d_22 (Conv2D)          (None, 7, 7, 256)         590080    \n",
            "                                                                 \n",
            " batch_normalization_21 (Ba  (None, 7, 7, 256)         1024      \n",
            " tchNormalization)                                               \n",
            "                                                                 \n",
            " flatten (Flatten)           (None, 12544)             0         \n",
            "                                                                 \n",
            " dense (Dense)               (None, 128)               1605760   \n",
            "                                                                 \n",
            " dense_1 (Dense)             (None, 10)                1290      \n",
            "                                                                 \n",
            "=================================================================\n",
            "Total params: 2782570 (10.61 MB)\n",
            "Trainable params: 1607050 (6.13 MB)\n",
            "Non-trainable params: 1175520 (4.48 MB)\n",
            "_________________________________________________________________\n"
          ]
        }
      ],
      "source": [
        "full_model.summary()"
      ]
    },
    {
      "cell_type": "markdown",
      "source": [
        "# Model Training"
      ],
      "metadata": {
        "id": "1g3pyaTIx12V"
      }
    },
    {
      "cell_type": "markdown",
      "source": [
        "## Model Fit"
      ],
      "metadata": {
        "id": "ik11Pb0mx6vh"
      }
    },
    {
      "cell_type": "code",
      "execution_count": 40,
      "metadata": {
        "colab": {
          "base_uri": "https://localhost:8080/"
        },
        "id": "5fp75r9Nz5zj",
        "outputId": "cc0b89b3-6496-4c58-9eff-e6689859b3cb"
      },
      "outputs": [
        {
          "output_type": "stream",
          "name": "stdout",
          "text": [
            "Epoch 1/5\n",
            "750/750 [==============================] - 7s 6ms/step - loss: 0.2661 - accuracy: 0.9396 - val_loss: 0.1313 - val_accuracy: 0.9667\n",
            "Epoch 2/5\n",
            "750/750 [==============================] - 4s 6ms/step - loss: 0.0950 - accuracy: 0.9745 - val_loss: 0.1015 - val_accuracy: 0.9726\n",
            "Epoch 3/5\n",
            "750/750 [==============================] - 6s 8ms/step - loss: 0.0743 - accuracy: 0.9790 - val_loss: 0.1243 - val_accuracy: 0.9706\n",
            "Epoch 4/5\n",
            "750/750 [==============================] - 5s 6ms/step - loss: 0.0531 - accuracy: 0.9836 - val_loss: 0.1019 - val_accuracy: 0.9727\n",
            "Epoch 5/5\n",
            "750/750 [==============================] - 4s 6ms/step - loss: 0.0515 - accuracy: 0.9852 - val_loss: 0.0953 - val_accuracy: 0.9754\n"
          ]
        }
      ],
      "source": [
        "classify_train = full_model.fit(train_X, train_label, batch_size=64,epochs=5,verbose=1,validation_data=(valid_X, valid_label))"
      ]
    },
    {
      "cell_type": "markdown",
      "source": [
        "## Saving the trained Model"
      ],
      "metadata": {
        "id": "N1NH7rqnx-AT"
      }
    },
    {
      "cell_type": "code",
      "execution_count": 41,
      "metadata": {
        "id": "x1zQmdWZz7r5"
      },
      "outputs": [],
      "source": [
        "full_model.save_weights('autoencoder_classification.h5')"
      ]
    },
    {
      "cell_type": "markdown",
      "source": [
        "# Re-Training the model with the first 19 Layers Trainable\n",
        "Cause we made'em False before training"
      ],
      "metadata": {
        "id": "DUu8WauVyFy1"
      }
    },
    {
      "cell_type": "code",
      "execution_count": 42,
      "metadata": {
        "id": "QNepm0k8z-Pa"
      },
      "outputs": [],
      "source": [
        "for layer in full_model.layers[0:19]:\n",
        "    layer.trainable = True"
      ]
    },
    {
      "cell_type": "markdown",
      "source": [
        "## Model Compile"
      ],
      "metadata": {
        "id": "hDAE8bpMygll"
      }
    },
    {
      "cell_type": "code",
      "execution_count": 43,
      "metadata": {
        "id": "aETUkzcA0A_p"
      },
      "outputs": [],
      "source": [
        "full_model.compile(loss=keras.losses.categorical_crossentropy, optimizer=keras.optimizers.Adam(),metrics=['accuracy'])"
      ]
    },
    {
      "cell_type": "markdown",
      "source": [
        "## Model Fit"
      ],
      "metadata": {
        "id": "J7__gK7XyonV"
      }
    },
    {
      "cell_type": "code",
      "execution_count": 44,
      "metadata": {
        "colab": {
          "base_uri": "https://localhost:8080/"
        },
        "id": "kBQmyaK90C7-",
        "outputId": "d9f25f66-0839-4f84-b4c2-f4d91140c691"
      },
      "outputs": [
        {
          "output_type": "stream",
          "name": "stdout",
          "text": [
            "Epoch 1/5\n",
            "750/750 [==============================] - 15s 13ms/step - loss: 0.1254 - accuracy: 0.9695 - val_loss: 0.1106 - val_accuracy: 0.9752\n",
            "Epoch 2/5\n",
            "750/750 [==============================] - 10s 13ms/step - loss: 0.0550 - accuracy: 0.9853 - val_loss: 0.0514 - val_accuracy: 0.9877\n",
            "Epoch 3/5\n",
            "750/750 [==============================] - 10s 13ms/step - loss: 0.0421 - accuracy: 0.9885 - val_loss: 0.0606 - val_accuracy: 0.9847\n",
            "Epoch 4/5\n",
            "750/750 [==============================] - 10s 13ms/step - loss: 0.0340 - accuracy: 0.9905 - val_loss: 0.0446 - val_accuracy: 0.9897\n",
            "Epoch 5/5\n",
            "750/750 [==============================] - 9s 12ms/step - loss: 0.0274 - accuracy: 0.9919 - val_loss: 0.0843 - val_accuracy: 0.9809\n"
          ]
        }
      ],
      "source": [
        "classify_train = full_model.fit(train_X, train_label, batch_size=64,epochs=5,verbose=1,validation_data=(valid_X, valid_label))"
      ]
    },
    {
      "cell_type": "markdown",
      "source": [
        "## Saving the trained Model"
      ],
      "metadata": {
        "id": "MWW3I25Pyq9i"
      }
    },
    {
      "cell_type": "code",
      "execution_count": 45,
      "metadata": {
        "id": "e03iCaQg0FOM"
      },
      "outputs": [],
      "source": [
        "full_model.save_weights('classification_complete.h5')"
      ]
    },
    {
      "cell_type": "markdown",
      "source": [
        "## Visualizing the model performance"
      ],
      "metadata": {
        "id": "F-tTuLd1ytFD"
      }
    },
    {
      "cell_type": "code",
      "execution_count": 48,
      "metadata": {
        "id": "h48YFBEr0Hs3",
        "colab": {
          "base_uri": "https://localhost:8080/",
          "height": 887
        },
        "outputId": "1dfb5c59-46e8-4985-c939-ead7c93cde23"
      },
      "outputs": [
        {
          "output_type": "display_data",
          "data": {
            "text/plain": [
              "<Figure size 640x480 with 1 Axes>"
            ],
            "image/png": "[encoded data removed]"
          },
          "metadata": {}
        },
        {
          "output_type": "display_data",
          "data": {
            "text/plain": [
              "<Figure size 640x480 with 1 Axes>"
            ],
            "image/png": "[encoded data removed]"
          },
          "metadata": {}
        }
      ],
      "source": [
        "accuracy = classify_train.history['accuracy']\n",
        "val_accuracy = classify_train.history['val_accuracy']\n",
        "loss = classify_train.history['loss']\n",
        "val_loss = classify_train.history['val_loss']\n",
        "epochs = range(len(accuracy))\n",
        "plt.plot(epochs, accuracy, 'bo', label='Training accuracy')\n",
        "plt.plot(epochs, val_accuracy, 'b', label='Validation accuracy')\n",
        "plt.title('Training and validation accuracy')\n",
        "plt.legend()\n",
        "plt.figure()\n",
        "plt.plot(epochs, loss, 'bo', label='Training loss')\n",
        "plt.plot(epochs, val_loss, 'b', label='Validation loss')\n",
        "plt.title('Training and validation loss')\n",
        "plt.legend()\n",
        "plt.show()"
      ]
    },
    {
      "cell_type": "markdown",
      "source": [
        "# Model Evaluation"
      ],
      "metadata": {
        "id": "0lo2rH8lyzUz"
      }
    },
    {
      "cell_type": "markdown",
      "source": [
        "on test data"
      ],
      "metadata": {
        "id": "KVugWhBxy4N_"
      }
    },
    {
      "cell_type": "code",
      "execution_count": 49,
      "metadata": {
        "id": "IUpUvMCD0J6j"
      },
      "outputs": [],
      "source": [
        "test_eval = full_model.evaluate(test_data, test_Y_one_hot, verbose=0)"
      ]
    },
    {
      "cell_type": "code",
      "execution_count": 50,
      "metadata": {
        "id": "byV227IP0Msa",
        "colab": {
          "base_uri": "https://localhost:8080/"
        },
        "outputId": "a8bc7220-5895-4bf3-ea13-182282eac3e5"
      },
      "outputs": [
        {
          "output_type": "stream",
          "name": "stdout",
          "text": [
            "Test loss: 0.06806652992963791\n",
            "Test accuracy: 0.9830999970436096\n"
          ]
        }
      ],
      "source": [
        "print('Test loss:', test_eval[0])\n",
        "print('Test accuracy:', test_eval[1])"
      ]
    },
    {
      "cell_type": "markdown",
      "source": [
        "# Predict Labels"
      ],
      "metadata": {
        "id": "Ov9-R1aRzI1f"
      }
    },
    {
      "cell_type": "code",
      "execution_count": 51,
      "metadata": {
        "id": "hZJBukUK0OqR",
        "colab": {
          "base_uri": "https://localhost:8080/"
        },
        "outputId": "1d0072bf-fda6-4f9f-ef69-b53352f9d1bd"
      },
      "outputs": [
        {
          "output_type": "stream",
          "name": "stdout",
          "text": [
            "313/313 [==============================] - 1s 3ms/step\n"
          ]
        }
      ],
      "source": [
        "predicted_classes = full_model.predict(test_data)"
      ]
    },
    {
      "cell_type": "code",
      "execution_count": 52,
      "metadata": {
        "id": "psejOs0A0QX3"
      },
      "outputs": [],
      "source": [
        "predicted_classes = np.argmax(np.round(predicted_classes),axis=1)"
      ]
    },
    {
      "cell_type": "code",
      "execution_count": 53,
      "metadata": {
        "id": "wDejmWmq0TM3",
        "colab": {
          "base_uri": "https://localhost:8080/"
        },
        "outputId": "0f438df6-bfd7-478e-c863-58a8b8c8b677"
      },
      "outputs": [
        {
          "output_type": "execute_result",
          "data": {
            "text/plain": [
              "((10000,), (10000,))"
            ]
          },
          "metadata": {},
          "execution_count": 53
        }
      ],
      "source": [
        "predicted_classes.shape, test_labels.shape"
      ]
    },
    {
      "cell_type": "markdown",
      "source": [
        "## Visualize the Correct Labels Predicted"
      ],
      "metadata": {
        "id": "igjMvKKrzjQy"
      }
    },
    {
      "cell_type": "code",
      "execution_count": 55,
      "metadata": {
        "id": "8XmExGBT0VfI",
        "colab": {
          "base_uri": "https://localhost:8080/",
          "height": 559
        },
        "outputId": "be8629ee-6478-450e-d0a2-8a0af836569e"
      },
      "outputs": [
        {
          "output_type": "stream",
          "name": "stdout",
          "text": [
            "Found 9824 correct labels\n"
          ]
        },
        {
          "output_type": "stream",
          "name": "stderr",
          "text": [
            "<ipython-input-55-e473e43f96bd>:4: MatplotlibDeprecationWarning: Auto-removal of overlapping axes is deprecated since 3.6 and will be removed two minor releases later; explicitly call ax.remove() as needed.\n",
            "  plt.subplot(3,3,i+1)\n"
          ]
        },
        {
          "output_type": "display_data",
          "data": {
            "text/plain": [
              "<Figure size 640x480 with 8 Axes>"
            ],
            "image/png": "[encoded data removed]"
          },
          "metadata": {}
        }
      ],
      "source": [
        "correct = np.where(predicted_classes==test_labels)[0]\n",
        "print(\"Found %d correct labels\" % len(correct))\n",
        "for i, correct in enumerate(correct[:9]):\n",
        "    plt.subplot(3,3,i+1)\n",
        "    plt.imshow(test_data[correct].reshape(28,28), cmap='gray', interpolation='none')\n",
        "    plt.title(\"Predicted {}, Class {}\".format(predicted_classes[correct], test_labels[correct]))\n",
        "    plt.tight_layout()"
      ]
    },
    {
      "cell_type": "markdown",
      "source": [
        "## Visualize the Incorrect Labels Predicted"
      ],
      "metadata": {
        "id": "DFwzRsPKzq2c"
      }
    },
    {
      "cell_type": "code",
      "execution_count": 57,
      "metadata": {
        "id": "YBi5l5X30YCB",
        "colab": {
          "base_uri": "https://localhost:8080/",
          "height": 559
        },
        "outputId": "d7c730f3-8f86-4363-d7bd-e56c12975f20"
      },
      "outputs": [
        {
          "output_type": "stream",
          "name": "stdout",
          "text": [
            "Found 176 incorrect labels\n"
          ]
        },
        {
          "output_type": "stream",
          "name": "stderr",
          "text": [
            "<ipython-input-57-28c5a1741c6d>:4: MatplotlibDeprecationWarning: Auto-removal of overlapping axes is deprecated since 3.6 and will be removed two minor releases later; explicitly call ax.remove() as needed.\n",
            "  plt.subplot(3,3,i+1)\n"
          ]
        },
        {
          "output_type": "display_data",
          "data": {
            "text/plain": [
              "<Figure size 640x480 with 8 Axes>"
            ],
            "image/png": "[encoded data removed]"
          },
          "metadata": {}
        }
      ],
      "source": [
        "incorrect = np.where(predicted_classes!=test_labels)[0]\n",
        "print(\"Found %d incorrect labels\" % len(incorrect))\n",
        "for i, incorrect in enumerate(incorrect[:9]):\n",
        "    plt.subplot(3,3,i+1)\n",
        "    plt.imshow(test_data[incorrect].reshape(28,28), cmap='gray', interpolation='none')\n",
        "    plt.title(\"Predicted {}, Class {}\".format(predicted_classes[incorrect], test_labels[incorrect]))\n",
        "    plt.tight_layout()"
      ]
    },
    {
      "cell_type": "markdown",
      "source": [
        "## Classification Report"
      ],
      "metadata": {
        "id": "eX2tQHMUzvWM"
      }
    },
    {
      "cell_type": "code",
      "execution_count": 58,
      "metadata": {
        "id": "GzCrjnGF0bAf",
        "colab": {
          "base_uri": "https://localhost:8080/"
        },
        "outputId": "96c0702f-3eaa-4770-e94d-8548ea820148"
      },
      "outputs": [
        {
          "output_type": "stream",
          "name": "stdout",
          "text": [
            "              precision    recall  f1-score   support\n",
            "\n",
            "     Class 0       0.98      1.00      0.99       980\n",
            "     Class 1       1.00      0.99      0.99      1135\n",
            "     Class 2       0.99      1.00      0.99      1032\n",
            "     Class 3       0.97      1.00      0.98      1010\n",
            "     Class 4       0.98      0.99      0.98       982\n",
            "     Class 5       0.96      0.99      0.98       892\n",
            "     Class 6       0.99      0.98      0.99       958\n",
            "     Class 7       0.98      0.99      0.99      1028\n",
            "     Class 8       0.98      0.99      0.99       974\n",
            "     Class 9       1.00      0.90      0.95      1009\n",
            "\n",
            "    accuracy                           0.98     10000\n",
            "   macro avg       0.98      0.98      0.98     10000\n",
            "weighted avg       0.98      0.98      0.98     10000\n",
            "\n"
          ]
        }
      ],
      "source": [
        "from sklearn.metrics import classification_report\n",
        "target_names = [\"Class {}\".format(i) for i in range(num_classes)]\n",
        "print(classification_report(test_labels, predicted_classes, target_names=target_names))"
      ]
    }
  ],
  "metadata": {
    "colab": {
      "provenance": [],
      "toc_visible": true
    },
    "kernelspec": {
      "display_name": "Python 3",
      "name": "python3"
    },
    "language_info": {
      "name": "python"
    }
  },
  "nbformat": 4,
  "nbformat_minor": 0
}